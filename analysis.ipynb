{
 "cells": [
  {
   "cell_type": "code",
   "execution_count": null,
   "metadata": {},
   "outputs": [],
   "source": [
    "import numpy as np\n",
    "import pandas as pd\n",
    "import matplotlib.pyplot as plt\n"
   ]
  },
  {
   "cell_type": "code",
   "execution_count": null,
   "metadata": {},
   "outputs": [],
   "source": [
    "def calculate_mean(data):\n",
    "    temp = data.copy()\n",
    "    for key1 in data:\n",
    "        for key2 in data[key1]:\n",
    "            temp[key1][key2] = np.mean(\n",
    "                np.array([data[key1][key2][i] for i in data[key1][key2].keys()])\n",
    "            )\n",
    "    return temp\n"
   ]
  },
  {
   "cell_type": "code",
   "execution_count": null,
   "metadata": {},
   "outputs": [],
   "source": [
    "# read all the pickle files from results folder\n",
    "bert = pd.read_pickle(\"results/results_bert.pkl\")\n",
    "coref = pd.read_pickle(\"results/results_coref.pkl\")\n",
    "ner = pd.read_pickle(\"results/results_ner.pkl\")\n",
    "nli = pd.read_pickle(\"results/results_nli.pkl\")\n",
    "paraphrase = pd.read_pickle(\"results/results_paraphrase.pkl\")\n",
    "qa = pd.read_pickle(\"results/results_qa.pkl\")\n",
    "sa = pd.read_pickle(\"results/results_sa.pkl\")\n",
    "srl = pd.read_pickle(\"results/results_srl.pkl\")\n",
    "ss = pd.read_pickle(\"results/results_ss.pkl\")\n",
    "sums = pd.read_pickle(\"results/results_sum.pkl\")\n",
    "wsd = pd.read_pickle(\"results/results_wsd.pkl\")\n",
    "\n",
    "ensemble_avg = pd.read_pickle(\"results/results_ensemble_avg.pkl\")\n",
    "ensemble_wt_avg = pd.read_pickle(\"results/results_ensemble_wt_avg.pkl\")\n",
    "ensemble_std_stack = pd.read_pickle(\"results/results_ensemble_std_stack.pkl\")\n"
   ]
  },
  {
   "cell_type": "code",
   "execution_count": null,
   "metadata": {},
   "outputs": [],
   "source": [
    "results = {\n",
    "    \"bert\": bert,\n",
    "    \"coref\": coref,\n",
    "    \"ner\": ner,\n",
    "    \"nli\": nli,\n",
    "    \"paraphrase\": paraphrase,\n",
    "    \"qa\": qa,\n",
    "    \"sa\": sa,\n",
    "    \"srl\": srl,\n",
    "    \"ss\": ss,\n",
    "    \"sums\": sums,\n",
    "    \"wsd\": wsd,\n",
    "    \"ensemble_avg\": ensemble_avg,\n",
    "    \"ensemble_wt_avg\": ensemble_wt_avg,\n",
    "    \"ensemble_std_stack\": ensemble_std_stack,\n",
    "}\n"
   ]
  },
  {
   "cell_type": "code",
   "execution_count": null,
   "metadata": {},
   "outputs": [],
   "source": [
    "for i in results.keys():\n",
    "    results[i] = calculate_mean(results[i])\n"
   ]
  },
  {
   "cell_type": "code",
   "execution_count": null,
   "metadata": {},
   "outputs": [],
   "source": [
    "noplot_2v2 = {\n",
    "    \"bert\": results[\"bert\"][\"2v2\"],\n",
    "    \"coref\": results[\"coref\"][\"2v2\"],\n",
    "    \"ner\": results[\"ner\"][\"2v2\"],\n",
    "    \"nli\": results[\"nli\"][\"2v2\"],\n",
    "    \"paraphrase\": results[\"paraphrase\"][\"2v2\"],\n",
    "    \"qa\": results[\"qa\"][\"2v2\"],\n",
    "    \"sa\": results[\"sa\"][\"2v2\"],\n",
    "    \"srl\": results[\"srl\"][\"2v2\"],\n",
    "    \"ss\": results[\"ss\"][\"2v2\"],\n",
    "    \"sums\": results[\"sums\"][\"2v2\"],\n",
    "    \"wsd\": results[\"wsd\"][\"2v2\"],\n",
    "    \"ensemble_avg\": results[\"ensemble_avg\"][\"2v2\"],\n",
    "    \"ensemble_wt_avg\": results[\"ensemble_wt_avg\"][\"2v2\"],\n",
    "    \"ensemble_std_stack\": results[\"ensemble_std_stack\"][\"2v2\"],\n",
    "}\n",
    "noplot_pear = {\n",
    "    \"bert\": results[\"bert\"][\"pear\"],\n",
    "    \"coref\": results[\"coref\"][\"pear\"],\n",
    "    \"ner\": results[\"ner\"][\"pear\"],\n",
    "    \"nli\": results[\"nli\"][\"pear\"],\n",
    "    \"paraphrase\": results[\"paraphrase\"][\"pear\"],\n",
    "    \"qa\": results[\"qa\"][\"pear\"],\n",
    "    \"sa\": results[\"sa\"][\"pear\"],\n",
    "    \"srl\": results[\"srl\"][\"pear\"],\n",
    "    \"ss\": results[\"ss\"][\"pear\"],\n",
    "    \"sums\": results[\"sums\"][\"pear\"],\n",
    "    \"wsd\": results[\"wsd\"][\"pear\"],\n",
    "    \"ensemble_avg\": results[\"ensemble_avg\"][\"pear\"],\n",
    "    \"ensemble_wt_avg\": results[\"ensemble_wt_avg\"][\"pear\"],\n",
    "    \"ensemble_std_stack\": results[\"ensemble_std_stack\"][\"pear\"],\n",
    "}\n"
   ]
  },
  {
   "cell_type": "code",
   "execution_count": null,
   "metadata": {},
   "outputs": [],
   "source": [
    "plot_2v2 = {}\n",
    "plot_pear = {}\n",
    "for key in noplot_2v2[\"bert\"].keys():\n",
    "    plot_2v2[key] = []\n",
    "    plot_pear[key] = []\n"
   ]
  },
  {
   "cell_type": "code",
   "execution_count": null,
   "metadata": {},
   "outputs": [],
   "source": [
    "plot_2v2 = {\n",
    "    \"bert\": list(results[\"bert\"][\"2v2\"].values()),\n",
    "    \"coref\": list(results[\"coref\"][\"2v2\"].values()),\n",
    "    \"ner\": list(results[\"ner\"][\"2v2\"].values()),\n",
    "    \"nli\": list(results[\"nli\"][\"2v2\"].values()),\n",
    "    \"paraphrase\": list(results[\"paraphrase\"][\"2v2\"].values()),\n",
    "    \"qa\": list(results[\"qa\"][\"2v2\"].values()),\n",
    "    \"sa\": list(results[\"sa\"][\"2v2\"].values()),\n",
    "    \"srl\": list(results[\"srl\"][\"2v2\"].values()),\n",
    "    \"ss\": list(results[\"ss\"][\"2v2\"].values()),\n",
    "    \"sums\": list(results[\"sums\"][\"2v2\"].values()),\n",
    "    \"wsd\": list(results[\"wsd\"][\"2v2\"].values()),\n",
    "    \"ensemble_avg\": list(results[\"ensemble_avg\"][\"2v2\"].values()),\n",
    "    \"ensemble_wt_avg\": list(results[\"ensemble_wt_avg\"][\"2v2\"].values()),\n",
    "    \"ensemble_std_stack\": list(results[\"ensemble_std_stack\"][\"2v2\"].values()),\n",
    "}\n",
    "\n",
    "\n",
    "plot_pear = {\n",
    "    \"bert\": list(results[\"bert\"][\"pear\"].values()),\n",
    "    \"coref\": list(results[\"coref\"][\"pear\"].values()),\n",
    "    \"ner\": list(results[\"ner\"][\"pear\"].values()),\n",
    "    \"nli\": list(results[\"nli\"][\"pear\"].values()),\n",
    "    \"paraphrase\": list(results[\"paraphrase\"][\"pear\"].values()),\n",
    "    \"qa\": list(results[\"qa\"][\"pear\"].values()),\n",
    "    \"sa\": list(results[\"sa\"][\"pear\"].values()),\n",
    "    \"srl\": list(results[\"srl\"][\"pear\"].values()),\n",
    "    \"ss\": list(results[\"ss\"][\"pear\"].values()),\n",
    "    \"sums\": list(results[\"sums\"][\"pear\"].values()),\n",
    "    \"wsd\": list(results[\"wsd\"][\"pear\"].values()),\n",
    "    \"ensemble_avg\": list(results[\"ensemble_avg\"][\"pear\"].values()),\n",
    "    \"ensemble_wt_avg\": list(results[\"ensemble_wt_avg\"][\"pear\"].values()),\n",
    "    \"ensemble_std_stack\": list(results[\"ensemble_std_stack\"][\"pear\"].values()),\n",
    "}\n"
   ]
  },
  {
   "cell_type": "code",
   "execution_count": null,
   "metadata": {},
   "outputs": [],
   "source": [
    "df_2v2 = pd.DataFrame(\n",
    "    plot_2v2,\n",
    "    columns=list(plot_2v2.keys()),\n",
    "    index=[\n",
    "        \"language_lh\",\n",
    "        \"language_rh\",\n",
    "        \"vision_body\",\n",
    "        \"vision_face\",\n",
    "        \"vision_object\",\n",
    "        \"vision_scene\",\n",
    "        \"vision\",\n",
    "        \"dmn\",\n",
    "        \"task\",\n",
    "    ],\n",
    ")\n"
   ]
  },
  {
   "cell_type": "code",
   "execution_count": null,
   "metadata": {},
   "outputs": [],
   "source": [
    "results_2v2 = df_2v2.plot.bar(figsize=(20, 10), width=0.8, title=\"2v2 Accuracy\", rot=0)\n",
    "results_2v2.legend(bbox_to_anchor=(1.05, 1.0), loc=\"upper left\")\n",
    "results_2v2.get_figure().savefig(\"results/2v2.png\")\n"
   ]
  },
  {
   "cell_type": "code",
   "execution_count": null,
   "metadata": {},
   "outputs": [],
   "source": [
    "df_pear = pd.DataFrame(\n",
    "    plot_pear,\n",
    "    columns=list(plot_pear.keys()),\n",
    "    index=[\n",
    "        \"language_lh\",\n",
    "        \"language_rh\",\n",
    "        \"vision_body\",\n",
    "        \"vision_face\",\n",
    "        \"vision_object\",\n",
    "        \"vision_scene\",\n",
    "        \"vision\",\n",
    "        \"dmn\",\n",
    "        \"task\",\n",
    "    ],\n",
    ")\n"
   ]
  },
  {
   "cell_type": "code",
   "execution_count": null,
   "metadata": {},
   "outputs": [],
   "source": [
    "results_pear = df_pear.plot.bar(\n",
    "    figsize=(20, 10), width=0.8, title=\"Pearson Correlation\", rot=0\n",
    ")\n",
    "results_pear.legend(bbox_to_anchor=(1.05, 1.0), loc=\"upper left\")\n",
    "results_pear.get_figure().savefig(\"results/pear.png\")\n"
   ]
  }
 ],
 "metadata": {
  "kernelspec": {
   "display_name": "base",
   "language": "python",
   "name": "python3"
  },
  "language_info": {
   "codemirror_mode": {
    "name": "ipython",
    "version": 3
   },
   "file_extension": ".py",
   "mimetype": "text/x-python",
   "name": "python",
   "nbconvert_exporter": "python",
   "pygments_lexer": "ipython3",
   "version": "3.8.16"
  },
  "orig_nbformat": 4
 },
 "nbformat": 4,
 "nbformat_minor": 2
}
