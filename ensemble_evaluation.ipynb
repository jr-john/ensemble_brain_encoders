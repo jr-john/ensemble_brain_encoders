{
 "cells": [
  {
   "cell_type": "code",
   "execution_count": null,
   "metadata": {},
   "outputs": [],
   "source": [
    "import pickle\n",
    "import warnings\n",
    "import numpy as np\n",
    "from scipy import spatial\n",
    "from scipy.io import loadmat\n",
    "from scipy.stats import pearsonr\n",
    "from sklearn.linear_model import Ridge\n",
    "from sklearn.model_selection import train_test_split\n",
    "\n",
    "warnings.filterwarnings(\"ignore\")\n"
   ]
  },
  {
   "cell_type": "code",
   "execution_count": null,
   "metadata": {},
   "outputs": [],
   "source": [
    "# pickle load the file ensemble.pkl\n",
    "with open(\"ensemble_wt_avg.pkl\", \"rb\") as f:\n",
    "    ensemble = pickle.load(f)\n"
   ]
  },
  {
   "cell_type": "code",
   "execution_count": null,
   "metadata": {},
   "outputs": [],
   "source": [
    "def pairwise_accuracy(actual, predicted):\n",
    "    true = 0\n",
    "    total = 0\n",
    "    for i in range(0, len(actual)):\n",
    "        for j in range(i + 1, len(actual)):\n",
    "            total += 1\n",
    "\n",
    "            s1 = actual[i]\n",
    "            s2 = actual[j]\n",
    "            b1 = predicted[i]\n",
    "            b2 = predicted[j]\n",
    "\n",
    "            result1 = spatial.distance.cosine(s1, b1)\n",
    "            result2 = spatial.distance.cosine(s2, b2)\n",
    "            result3 = spatial.distance.cosine(s1, b2)\n",
    "            result4 = spatial.distance.cosine(s2, b1)\n",
    "\n",
    "            if result1 + result2 < result3 + result4:\n",
    "                true += 1\n",
    "\n",
    "    return true / total\n"
   ]
  },
  {
   "cell_type": "code",
   "execution_count": null,
   "metadata": {},
   "outputs": [],
   "source": [
    "def pearcorr(actual, predicted):\n",
    "    corr = []\n",
    "    for i in range(0, len(actual)):\n",
    "        corr.append(np.corrcoef(actual[i], predicted[i])[0][1])\n",
    "    return np.mean(corr)\n"
   ]
  },
  {
   "cell_type": "code",
   "execution_count": null,
   "metadata": {},
   "outputs": [],
   "source": [
    "ROIS = [\n",
    "    \"language_lh\",\n",
    "    \"language_rh\",\n",
    "    \"vision_body\",\n",
    "    \"vision_face\",\n",
    "    \"vision_object\",\n",
    "    \"vision_scene\",\n",
    "    \"vision\",\n",
    "    \"dmn\",\n",
    "    \"task\",\n",
    "]\n",
    "subjects = [\"P01\", \"M02\", \"M04\", \"M07\", \"M15\"]\n",
    "layers_bert = [\n",
    "    \"block1\",\n",
    "    \"block2\",\n",
    "    \"block3\",\n",
    "    \"block4\",\n",
    "    \"block5\",\n",
    "    \"block6\",\n",
    "    \"block7\",\n",
    "    \"block8\",\n",
    "    \"block9\",\n",
    "    \"block10\",\n",
    "    \"block11\",\n",
    "    \"block12\",\n",
    "    \"fc\",\n",
    "]\n",
    "layers_bart = [\"fc\"]\n"
   ]
  },
  {
   "cell_type": "code",
   "execution_count": null,
   "metadata": {},
   "outputs": [],
   "source": [
    "def evaluate(Y, roi, subject):\n",
    "    dataset_Y = np.array(Y.copy())\n",
    "    _, y_test, _, y_pred = train_test_split(\n",
    "        dataset_Y, ensemble[subject][roi], test_size=0.2, random_state=42\n",
    "    )\n",
    "    acc = pairwise_accuracy(y_test, y_pred)\n",
    "    corr = pearcorr(y_test, y_pred)\n",
    "\n",
    "    return acc, corr\n"
   ]
  },
  {
   "cell_type": "code",
   "execution_count": null,
   "metadata": {},
   "outputs": [],
   "source": [
    "output = {}\n",
    "output[\"2v2\"] = {}\n",
    "output[\"pear\"] = {}\n",
    "\n",
    "for subject in subjects:\n",
    "    print(subject)\n",
    "    output[\"2v2\"][subject] = {}\n",
    "    output[\"pear\"][subject] = {}\n",
    "    fmri = get_subject_data(subject)\n",
    "\n",
    "    for roi in ROIS:\n",
    "        print(roi)\n",
    "        voxels = np.array(fmri[roi])\n",
    "        acc, corr = evaluate(voxels, roi, subject)\n",
    "        output[\"2v2\"][subject][roi] = acc\n",
    "        output[\"pear\"][subject][roi] = corr\n"
   ]
  },
  {
   "cell_type": "code",
   "execution_count": null,
   "metadata": {},
   "outputs": [],
   "source": [
    "ensemble_output = {}\n",
    "ensemble_output[\"2v2\"] = {}\n",
    "ensemble_output[\"pear\"] = {}\n",
    "for roi in ROIS:\n",
    "    ensemble_output[\"2v2\"][roi] = {}\n",
    "    ensemble_output[\"pear\"][roi] = {}\n",
    "    for subject in subjects:\n",
    "        ensemble_output[\"2v2\"][roi][subject] = output[\"2v2\"][subject][roi]\n",
    "        ensemble_output[\"pear\"][roi][subject] = output[\"pear\"][subject][roi]\n"
   ]
  },
  {
   "cell_type": "code",
   "execution_count": null,
   "metadata": {},
   "outputs": [],
   "source": [
    "with open(f\"results/results_ensemble_wt_avg.pkl\", \"wb\") as f:\n",
    "    pickle.dump(ensemble_output, f)\n"
   ]
  }
 ],
 "metadata": {
  "kernelspec": {
   "display_name": "csai",
   "language": "python",
   "name": "python3"
  },
  "language_info": {
   "codemirror_mode": {
    "name": "ipython",
    "version": 3
   },
   "file_extension": ".py",
   "mimetype": "text/x-python",
   "name": "python",
   "nbconvert_exporter": "python",
   "pygments_lexer": "ipython3",
   "version": "3.8.16"
  },
  "orig_nbformat": 4
 },
 "nbformat": 4,
 "nbformat_minor": 2
}
